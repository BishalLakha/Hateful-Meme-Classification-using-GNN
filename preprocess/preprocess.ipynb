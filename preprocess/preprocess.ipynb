{
 "cells": [
  {
   "cell_type": "code",
   "execution_count": 2,
   "metadata": {},
   "outputs": [],
   "source": [
    "import pandas as pd\n",
    "import numpy as np\n",
    "import matplotlib.pyplot as plt\n",
    "import scipy.sparse as sp\n",
    "from texthero import stopwords, preprocessing\n",
    "from math import log\n"
   ]
  },
  {
   "cell_type": "code",
   "execution_count": 111,
   "metadata": {},
   "outputs": [],
   "source": [
    "#dump objects\n",
    "import pickle as pkl\n",
    "\n",
    "def dump_pickle(obj, file_name):\n",
    "    pkl.dump(obj, open(file_name, 'wb'))\n",
    "\n",
    "def write_file(data,name):\n",
    "    with open(f'../data/{name}.index', 'w') as f:\n",
    "        f.write(data)\n"
   ]
  },
  {
   "cell_type": "code",
   "execution_count": 3,
   "metadata": {},
   "outputs": [],
   "source": [
    "def preprocessing_pipeline(text):\n",
    "\n",
    "    #Call remove_stopwords and pass the custom_stopwords list\n",
    "    default_stopwords = stopwords.DEFAULT\n",
    "    #add a list of stopwords to the stopwords\n",
    "    stop_w = [\"I\",\"It\",\"The\", \"-\",\"'\", \".\"]\n",
    "    custom_stopwords = default_stopwords.union(set(stop_w))\n",
    "\n",
    "    # creating a custom pipeline to preprocess the raw text we have\n",
    "    custom_pipeline = [preprocessing.lowercase\n",
    "                    , preprocessing.fillna\n",
    "                    , preprocessing.remove_diacritics\n",
    "                    , preprocessing.remove_whitespace\n",
    "                    , preprocessing.remove_angle_brackets\n",
    "                    , preprocessing.remove_brackets\n",
    "                    , preprocessing.remove_curly_brackets\n",
    "                    , preprocessing.remove_html_tags\n",
    "                    , preprocessing.remove_punctuation\n",
    "                    ]\n",
    "    \n",
    "    # simply call clean() method to clean the raw text in ' comments' col and pass the custom_pipeline to pipeline argument\n",
    "    text = hero.clean(text, pipeline = custom_pipeline)\n",
    "    text = hero.remove_stopwords(text, custom_stopwords) \n",
    "    \n",
    "    return text"
   ]
  },
  {
   "cell_type": "code",
   "execution_count": null,
   "metadata": {},
   "outputs": [],
   "source": []
  },
  {
   "cell_type": "code",
   "execution_count": 4,
   "metadata": {},
   "outputs": [],
   "source": [
    "df_train = pd.read_json(\"../data/train.jsonl\",lines=True)\n",
    "df_test_seen = pd.read_json(\"../data/test_seen.jsonl\",lines=True)   \n",
    "df_dev_seen = pd.read_json(\"../data/dev_seen.jsonl\",lines=True)"
   ]
  },
  {
   "cell_type": "code",
   "execution_count": 5,
   "metadata": {},
   "outputs": [],
   "source": [
    "df_train[\"type\"] = \"train\"\n",
    "df_test_seen[\"type\"] = \"test\"\n",
    "df_dev_seen[\"type\"] = \"val\""
   ]
  },
  {
   "cell_type": "code",
   "execution_count": 6,
   "metadata": {},
   "outputs": [],
   "source": [
    "data = pd.concat([df_train, df_dev_seen, df_test_seen]).reset_index(drop=True)"
   ]
  },
  {
   "cell_type": "code",
   "execution_count": 7,
   "metadata": {},
   "outputs": [
    {
     "data": {
      "text/plain": [
       "<AxesSubplot:>"
      ]
     },
     "execution_count": 7,
     "metadata": {},
     "output_type": "execute_result"
    },
    {
     "data": {
      "image/png": "[encoded data removed]",
      "text/plain": [
       "<Figure size 432x288 with 1 Axes>"
      ]
     },
     "metadata": {
      "needs_background": "light"
     },
     "output_type": "display_data"
    }
   ],
   "source": [
    "data.label.value_counts().plot(kind=\"bar\")"
   ]
  },
  {
   "cell_type": "code",
   "execution_count": 8,
   "metadata": {},
   "outputs": [
    {
     "data": {
      "text/plain": [
       "<AxesSubplot:>"
      ]
     },
     "execution_count": 8,
     "metadata": {},
     "output_type": "execute_result"
    },
    {
     "data": {
      "image/png": "[encoded data removed]",
      "text/plain": [
       "<Figure size 432x288 with 1 Axes>"
      ]
     },
     "metadata": {
      "needs_background": "light"
     },
     "output_type": "display_data"
    }
   ],
   "source": [
    "data.type.value_counts().plot(kind=\"bar\")"
   ]
  },
  {
   "cell_type": "code",
   "execution_count": 13,
   "metadata": {},
   "outputs": [
    {
     "data": {
      "text/html": [
       "<div>\n",
       "<style scoped>\n",
       "    .dataframe tbody tr th:only-of-type {\n",
       "        vertical-align: middle;\n",
       "    }\n",
       "\n",
       "    .dataframe tbody tr th {\n",
       "        vertical-align: top;\n",
       "    }\n",
       "\n",
       "    .dataframe thead th {\n",
       "        text-align: right;\n",
       "    }\n",
       "</style>\n",
       "<table border=\"1\" class=\"dataframe\">\n",
       "  <thead>\n",
       "    <tr style=\"text-align: right;\">\n",
       "      <th></th>\n",
       "      <th>id</th>\n",
       "      <th>img</th>\n",
       "      <th>label</th>\n",
       "      <th>text</th>\n",
       "      <th>type</th>\n",
       "    </tr>\n",
       "  </thead>\n",
       "  <tbody>\n",
       "    <tr>\n",
       "      <th>0</th>\n",
       "      <td>42953</td>\n",
       "      <td>img/42953.png</td>\n",
       "      <td>0</td>\n",
       "      <td>its their character not their color that matters</td>\n",
       "      <td>train</td>\n",
       "    </tr>\n",
       "    <tr>\n",
       "      <th>1</th>\n",
       "      <td>23058</td>\n",
       "      <td>img/23058.png</td>\n",
       "      <td>0</td>\n",
       "      <td>don't be afraid to love again everyone is not ...</td>\n",
       "      <td>train</td>\n",
       "    </tr>\n",
       "    <tr>\n",
       "      <th>2</th>\n",
       "      <td>13894</td>\n",
       "      <td>img/13894.png</td>\n",
       "      <td>0</td>\n",
       "      <td>putting bows on your pet</td>\n",
       "      <td>train</td>\n",
       "    </tr>\n",
       "    <tr>\n",
       "      <th>3</th>\n",
       "      <td>37408</td>\n",
       "      <td>img/37408.png</td>\n",
       "      <td>0</td>\n",
       "      <td>i love everything and everybody! except for sq...</td>\n",
       "      <td>train</td>\n",
       "    </tr>\n",
       "    <tr>\n",
       "      <th>4</th>\n",
       "      <td>82403</td>\n",
       "      <td>img/82403.png</td>\n",
       "      <td>0</td>\n",
       "      <td>everybody loves chocolate chip cookies, even h...</td>\n",
       "      <td>train</td>\n",
       "    </tr>\n",
       "  </tbody>\n",
       "</table>\n",
       "</div>"
      ],
      "text/plain": [
       "      id            img  label  \\\n",
       "0  42953  img/42953.png      0   \n",
       "1  23058  img/23058.png      0   \n",
       "2  13894  img/13894.png      0   \n",
       "3  37408  img/37408.png      0   \n",
       "4  82403  img/82403.png      0   \n",
       "\n",
       "                                                text   type  \n",
       "0   its their character not their color that matters  train  \n",
       "1  don't be afraid to love again everyone is not ...  train  \n",
       "2                           putting bows on your pet  train  \n",
       "3  i love everything and everybody! except for sq...  train  \n",
       "4  everybody loves chocolate chip cookies, even h...  train  "
      ]
     },
     "execution_count": 13,
     "metadata": {},
     "output_type": "execute_result"
    }
   ],
   "source": [
    "data.head()"
   ]
  },
  {
   "cell_type": "code",
   "execution_count": 14,
   "metadata": {},
   "outputs": [],
   "source": [
    "# data = data.sample(frac=1)\n",
    "# data.head()\n"
   ]
  },
  {
   "cell_type": "code",
   "execution_count": 15,
   "metadata": {},
   "outputs": [],
   "source": [
    "labels = data.label.to_list()"
   ]
  },
  {
   "cell_type": "code",
   "execution_count": 106,
   "metadata": {},
   "outputs": [],
   "source": [
    "train_index = data[(data.type == \"train\") | (data.type == 'val')].id.to_list()\n",
    "test_index = data[data.type == \"test\"].id.to_list()"
   ]
  },
  {
   "cell_type": "code",
   "execution_count": 107,
   "metadata": {},
   "outputs": [],
   "source": [
    "train_index = \"\\n\".join(train_index)\n",
    "test_index = \"\\n\".join(test_index)"
   ]
  },
  {
   "cell_type": "code",
   "execution_count": null,
   "metadata": {},
   "outputs": [],
   "source": [
    "data.to_csv(\"../data/all_data.csv\", index=False)"
   ]
  },
  {
   "cell_type": "markdown",
   "metadata": {},
   "source": [
    "### Build Vocab"
   ]
  },
  {
   "cell_type": "code",
   "execution_count": 16,
   "metadata": {},
   "outputs": [],
   "source": [
    "\n",
    "# build vocab\n",
    "def build_vocab(corpus):\n",
    "    word_freq = {}\n",
    "    word_set = set()\n",
    "    for doc_words in corpus:\n",
    "        words = doc_words.split()\n",
    "        for word in words:\n",
    "            word_set.add(word)\n",
    "\n",
    "    vocab = list(word_set)\n",
    "    vocab_size = len(vocab)\n",
    "\n",
    "    vocab_str = '\\n'.join(vocab)\n",
    "\n",
    "    print(f\"Creating vocab of size {vocab_size}\")\n",
    "    with open('../data/additional_data/meme_vocab.txt', 'w') as f:\n",
    "        f.write(vocab_str)\n",
    "    \n",
    "    return vocab\n"
   ]
  },
  {
   "cell_type": "code",
   "execution_count": 17,
   "metadata": {},
   "outputs": [
    {
     "name": "stdout",
     "output_type": "stream",
     "text": [
      "Creating vocab of size 13551\n"
     ]
    }
   ],
   "source": [
    "# Get all unique words from the meme text\n",
    "# save them in a file\n",
    "corpus = data.text.to_list()\n",
    "vocab = build_vocab(corpus)"
   ]
  },
  {
   "cell_type": "code",
   "execution_count": 18,
   "metadata": {},
   "outputs": [],
   "source": [
    "# Finding the size of the train, val and test set\n",
    "train_size = len(df_train)\n",
    "test_size = len(df_test_seen)   \n",
    "val_size = len(df_dev_seen)"
   ]
  },
  {
   "cell_type": "markdown",
   "metadata": {},
   "source": [
    "### Finding embedding"
   ]
  },
  {
   "cell_type": "code",
   "execution_count": 61,
   "metadata": {},
   "outputs": [],
   "source": [
    "\n",
    "\n",
    "word_embeddings_dim = 300\n",
    "# word_vector_map = {}\n",
    "\n",
    "\n",
    "def get_embedding(data_size,text_data,labels):\n",
    "\n",
    "    row_x = []\n",
    "    col_x = []\n",
    "    data_x = []\n",
    "\n",
    "    for i in range(data_size):\n",
    "        doc_vec = np.array([0.0 for k in range(word_embeddings_dim)])\n",
    "        doc_words = text_data[i]\n",
    "        words = doc_words.split()\n",
    "        doc_len = len(words)\n",
    "\n",
    "        for j in range(word_embeddings_dim):\n",
    "            row_x.append(i)\n",
    "            col_x.append(j)\n",
    "            data_x.append(doc_vec[j] / doc_len)  # doc_vec[j]/ doc_len\n",
    "    \n",
    "    # x = sp.csr_matrix((real_train_size, word_embeddings_dim), dtype=np.float32)\n",
    "    x = sp.csr_matrix((data_x, (row_x, col_x)), shape=(data_size, word_embeddings_dim))\n",
    "\n",
    "    # One hot encoding of labels\n",
    "    y = []\n",
    "    label_list = [0,1]\n",
    "    for i in range(data_size):\n",
    "        label = labels[i]\n",
    "        one_hot = [0 for l in range(len(label_list))]\n",
    "        label_index = label_list.index(label)\n",
    "        one_hot[label_index] = 1\n",
    "        y.append(one_hot)\n",
    "    y = np.array(y)\n",
    "\n",
    "    return x,y\n"
   ]
  },
  {
   "cell_type": "code",
   "execution_count": 62,
   "metadata": {},
   "outputs": [],
   "source": [
    "train_data = data[data.type == \"train\"]['text'].to_list()\n",
    "train_labels = data[data.type == \"train\"]['label'].to_list()\n",
    "test_data = data[data.type == \"test\"]['text'].to_list()\n",
    "test_labels = data[data.type == \"test\"]['label'].to_list()\n",
    "val_data = data[data.type == \"val\"]['text'].to_list()\n",
    "val_labels = data[data.type == \"val\"]['label'].to_list()"
   ]
  },
  {
   "cell_type": "code",
   "execution_count": 63,
   "metadata": {},
   "outputs": [],
   "source": [
    "train_x, train_y = get_embedding(train_size,train_data,train_labels)\n",
    "test_x, test_y = get_embedding(test_size,test_data,test_labels) "
   ]
  },
  {
   "cell_type": "code",
   "execution_count": null,
   "metadata": {},
   "outputs": [],
   "source": []
  },
  {
   "cell_type": "code",
   "execution_count": 57,
   "metadata": {},
   "outputs": [],
   "source": [
    "# Initialize random weights for word embeddings\n",
    "vocab_size = len(vocab)\n",
    "word_vectors = np.random.uniform(-0.01, 0.01,(vocab_size, word_embeddings_dim))\n"
   ]
  },
  {
   "cell_type": "code",
   "execution_count": 51,
   "metadata": {},
   "outputs": [],
   "source": [
    "# Combining training and validation data to train the model\n",
    "train_val_data = train_data + val_data\n",
    "train_val_labels = train_labels + val_labels\n",
    "\n",
    "\n",
    "train_val_size = len(train_val_data)"
   ]
  },
  {
   "cell_type": "code",
   "execution_count": 90,
   "metadata": {},
   "outputs": [],
   "source": [
    "row_allx = []\n",
    "col_allx = []\n",
    "data_allx = []\n",
    "\n",
    "for i in range(train_val_size):\n",
    "    doc_vec = np.array([0.0 for k in range(word_embeddings_dim)])\n",
    "    doc_words = train_val_data[i]\n",
    "    words = doc_words.split()\n",
    "    doc_len = len(words)\n",
    "\n",
    "    for j in range(word_embeddings_dim):\n",
    "        row_allx.append(int(i))\n",
    "        col_allx.append(j)\n",
    "        # np.random.uniform(-0.25, 0.25)\n",
    "        data_allx.append(doc_vec[j] / doc_len)  # doc_vec[j]/doc_len\n",
    "        \n",
    "for i in range(vocab_size):\n",
    "    for j in range(word_embeddings_dim):\n",
    "        row_allx.append(int(i + train_size))\n",
    "        col_allx.append(j)\n",
    "        data_allx.append(word_vectors.item((i, j)))\n",
    "\n",
    "\n",
    "row_allx = np.array(row_allx)\n",
    "col_allx = np.array(col_allx)\n",
    "data_allx = np.array(data_allx)\n",
    "\n",
    "allx = sp.csr_matrix(\n",
    "    (data_allx, (row_allx, col_allx)), shape=(train_val_size + vocab_size, word_embeddings_dim))"
   ]
  },
  {
   "cell_type": "code",
   "execution_count": 75,
   "metadata": {},
   "outputs": [
    {
     "name": "stdout",
     "output_type": "stream",
     "text": [
      "(8500, 300) (8500, 2) (1000, 300) (1000, 2) (22551, 300) (22551, 2)\n"
     ]
    }
   ],
   "source": [
    "ally = []\n",
    "\n",
    "label_list = [0,1]\n",
    "\n",
    "# One hot encoding of labels of meme text (documents)\n",
    "for i in range(train_val_size):\n",
    "    label = train_val_labels[i]\n",
    "    one_hot = [0 for l in range(len(label_list))]\n",
    "    label_index = label_list.index(label)\n",
    "    one_hot[label_index] = 1\n",
    "    ally.append(one_hot)\n",
    "\n",
    "# Assigning label 0 to all words\n",
    "for i in range(vocab_size):\n",
    "    one_hot = [0 for l in range(len(label_list))]\n",
    "    ally.append(one_hot)\n",
    "\n",
    "ally = np.array(ally)\n",
    "\n",
    "print(train_x.shape, train_y.shape, test_x.shape, test_y.shape, allx.shape, ally.shape)"
   ]
  },
  {
   "cell_type": "code",
   "execution_count": 84,
   "metadata": {},
   "outputs": [],
   "source": [
    "'''\n",
    "Doc word heterogeneous graph\n",
    "'''\n",
    "\n",
    "word_id_map = {}\n",
    "for i in range(vocab_size):\n",
    "    word_id_map[vocab[i]] = i\n",
    "\n",
    "# word co-occurence with context windows\n",
    "window_size = 20\n",
    "windows = []\n",
    "\n",
    "for doc_words in train_val_data:\n",
    "    words = doc_words.split()\n",
    "    length = len(words)\n",
    "    if length <= window_size:\n",
    "        windows.append(words)\n",
    "    else:\n",
    "        # print(length, length - window_size + 1)\n",
    "        for j in range(length - window_size + 1):\n",
    "            window = words[j: j + window_size]\n",
    "            windows.append(window)\n",
    "            # print(window)\n",
    "\n",
    "\n",
    "word_window_freq = {}\n",
    "for window in windows:\n",
    "    appeared = set()\n",
    "    for i in range(len(window)):\n",
    "        if window[i] in appeared:\n",
    "            continue\n",
    "        if window[i] in word_window_freq:\n",
    "            word_window_freq[window[i]] += 1\n",
    "        else:\n",
    "            word_window_freq[window[i]] = 1\n",
    "        appeared.add(window[i])\n",
    "\n",
    "word_pair_count = {}\n",
    "for window in windows:\n",
    "    for i in range(1, len(window)):\n",
    "        for j in range(0, i):\n",
    "            word_i = window[i]\n",
    "            word_i_id = word_id_map[word_i]\n",
    "            word_j = window[j]\n",
    "            word_j_id = word_id_map[word_j]\n",
    "            if word_i_id == word_j_id:\n",
    "                continue\n",
    "            word_pair_str = str(word_i_id) + ',' + str(word_j_id)\n",
    "            if word_pair_str in word_pair_count:\n",
    "                word_pair_count[word_pair_str] += 1\n",
    "            else:\n",
    "                word_pair_count[word_pair_str] = 1\n",
    "            # two orders\n",
    "            word_pair_str = str(word_j_id) + ',' + str(word_i_id)\n",
    "            if word_pair_str in word_pair_count:\n",
    "                word_pair_count[word_pair_str] += 1\n",
    "            else:\n",
    "                word_pair_count[word_pair_str] = 1\n",
    "\n",
    "row = []\n",
    "col = []\n",
    "weight = []\n",
    "\n",
    "# pmi as weights\n",
    "\n",
    "num_window = len(windows)\n",
    "\n",
    "for key in word_pair_count:\n",
    "    temp = key.split(',')\n",
    "    i = int(temp[0])\n",
    "    j = int(temp[1])\n",
    "    count = word_pair_count[key]\n",
    "    word_freq_i = word_window_freq[vocab[i]]\n",
    "    word_freq_j = word_window_freq[vocab[j]]\n",
    "    pmi = log((1.0 * count / num_window) /\n",
    "              (1.0 * word_freq_i * word_freq_j/(num_window * num_window)))\n",
    "    if pmi <= 0:\n",
    "        continue\n",
    "    row.append(train_val_size + i)\n",
    "    col.append(train_val_size + j)\n",
    "    weight.append(pmi)"
   ]
  },
  {
   "cell_type": "code",
   "execution_count": 85,
   "metadata": {},
   "outputs": [],
   "source": [
    "from collections import Counter  # optimized way to do this\n",
    "\n",
    "all_words = [words.split() for words in corpus]\n",
    "all_words = list(np.concatenate(all_words).flat)\n",
    "\n",
    "word_doc_freq = Counter(word.lower() for word in all_words)\n"
   ]
  },
  {
   "cell_type": "code",
   "execution_count": 86,
   "metadata": {},
   "outputs": [],
   "source": [
    "\n",
    "# doc word frequency\n",
    "doc_word_freq = {}\n",
    "\n",
    "for doc_id in range(len(corpus)):\n",
    "    doc_words = corpus[doc_id]\n",
    "    words = doc_words.split()\n",
    "    for word in words:\n",
    "        word_id = word_id_map[word]\n",
    "        doc_word_str = str(doc_id) + ',' + str(word_id)\n",
    "        if doc_word_str in doc_word_freq:\n",
    "            doc_word_freq[doc_word_str] += 1\n",
    "        else:\n",
    "            doc_word_freq[doc_word_str] = 1\n",
    "\n",
    "for i in range(len(corpus)):\n",
    "    doc_words = corpus[i]\n",
    "    words = doc_words.split()\n",
    "    doc_word_set = set()\n",
    "    for word in words:\n",
    "        if word in doc_word_set:\n",
    "            continue\n",
    "        j = word_id_map[word]\n",
    "        key = str(i) + ',' + str(j)\n",
    "        freq = doc_word_freq[key]\n",
    "        if i < train_size:\n",
    "            row.append(i)\n",
    "        else:\n",
    "            row.append(i + vocab_size)\n",
    "        col.append(train_val_size + j)\n",
    "        idf = log(1.0 * len(corpus) /\n",
    "                  word_doc_freq[vocab[j]])\n",
    "        weight.append(freq * idf)\n",
    "        doc_word_set.add(word)\n",
    "\n",
    "node_size = train_val_size + vocab_size + test_size\n",
    "adj = sp.csr_matrix(\n",
    "    (weight, (row, col)), shape=(node_size, node_size))"
   ]
  },
  {
   "cell_type": "code",
   "execution_count": 87,
   "metadata": {},
   "outputs": [],
   "source": []
  },
  {
   "cell_type": "code",
   "execution_count": 93,
   "metadata": {},
   "outputs": [],
   "source": [
    "dump_pickle(train_x, \"../data/additional_data/ind.x\")\n",
    "dump_pickle(train_y, \"../data/additional_data/ind.y\")\n",
    "dump_pickle(test_x, \"../data/additional_data/ind.tx\")\n",
    "dump_pickle(test_y, \"../data/additional_data/ind.ty\")\n",
    "dump_pickle(allx, \"../data/additional_data/ind.allx\")\n",
    "dump_pickle(ally, \"../data/additional_data/ind.ally\")\n",
    "dump_pickle(adj, \"../data/additional_data/ind.adj\")"
   ]
  },
  {
   "cell_type": "code",
   "execution_count": 89,
   "metadata": {},
   "outputs": [],
   "source": [
    "data.to_csv(\"../data/additional_data/meme_data.csv\", index=False)"
   ]
  },
  {
   "cell_type": "code",
   "execution_count": null,
   "metadata": {},
   "outputs": [],
   "source": []
  }
 ],
 "metadata": {
  "interpreter": {
   "hash": "a9188de91555ba3328945728ae07a43dc8dfe643542d510c5729b810ec16c80f"
  },
  "kernelspec": {
   "display_name": "Python 3.6.12 ('venv3.6')",
   "language": "python",
   "name": "python3"
  },
  "language_info": {
   "codemirror_mode": {
    "name": "ipython",
    "version": 3
   },
   "file_extension": ".py",
   "mimetype": "text/x-python",
   "name": "python",
   "nbconvert_exporter": "python",
   "pygments_lexer": "ipython3",
   "version": "3.6.12"
  },
  "orig_nbformat": 4
 },
 "nbformat": 4,
 "nbformat_minor": 2
}
